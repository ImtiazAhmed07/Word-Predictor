{
  "nbformat": 4,
  "nbformat_minor": 0,
  "metadata": {
    "colab": {
      "provenance": [],
      "authorship_tag": "ABX9TyNmyeQHhZBJQ157uxjv9qwf",
      "include_colab_link": true
    },
    "kernelspec": {
      "name": "python3",
      "display_name": "Python 3"
    },
    "language_info": {
      "name": "python"
    }
  },
  "cells": [
    {
      "cell_type": "markdown",
      "metadata": {
        "id": "view-in-github",
        "colab_type": "text"
      },
      "source": [
        "<a href=\"https://colab.research.google.com/github/ImtiazAhmed07/Word-Predictor/blob/main/Next%20Word%20predictor.ipynb\" target=\"_parent\"><img src=\"https://colab.research.google.com/assets/colab-badge.svg\" alt=\"Open In Colab\"/></a>"
      ]
    },
    {
      "cell_type": "code",
      "execution_count": 1,
      "metadata": {
        "id": "Iv1lk2zcvyzd"
      },
      "outputs": [],
      "source": [
        "import numpy as np\n",
        "import re\n",
        "from collections import defaultdict\n",
        "\n",
        "# Sample corpus\n",
        "corpus = \"\"\"\n",
        "I am happy because I am learning.\n",
        "Learning is fun because I am gaining knowledge.\n",
        "Knowledge is power.\n",
        "\"\"\"\n",
        "\n",
        "# Preprocess the corpus\n",
        "def preprocess(text):\n",
        "    text = text.lower()\n",
        "    text = re.sub(r'[^a-z\\s]', '', text)\n",
        "    return text.split()\n",
        "\n",
        "words = preprocess(corpus)"
      ]
    },
    {
      "cell_type": "code",
      "source": [
        "# Count bigrams\n",
        "bigram_counts = defaultdict(int)\n",
        "for i in range(len(words) - 1):\n",
        "    bigram = (words[i], words[i + 1])\n",
        "    bigram_counts[bigram] += 1\n",
        "\n",
        "# Count unigrams (single words)\n",
        "unigram_counts = defaultdict(int)\n",
        "for word in words:\n",
        "    unigram_counts[word] += 1"
      ],
      "metadata": {
        "id": "_YA_cllVwUkR"
      },
      "execution_count": 2,
      "outputs": []
    },
    {
      "cell_type": "code",
      "source": [
        "def predict_next_word(prev_word, bigram_counts, unigram_counts):\n",
        "    candidates = [(bigram[1], count) for bigram, count in bigram_counts.items() if bigram[0] == prev_word]\n",
        "    if not candidates:\n",
        "        return None\n",
        "    candidates.sort(key=lambda x: x[1], reverse=True)\n",
        "    return candidates\n",
        "\n",
        "# Example prediction\n",
        "prev_word = 'i'\n",
        "candidates = predict_next_word(prev_word, bigram_counts, unigram_counts)\n",
        "print(f\"Next word candidates for '{prev_word}': {candidates}\")"
      ],
      "metadata": {
        "colab": {
          "base_uri": "https://localhost:8080/"
        },
        "id": "wLzYQIxjwk58",
        "outputId": "d2ce5d70-eeec-42b0-f914-bc0ba5bc3ef0"
      },
      "execution_count": 3,
      "outputs": [
        {
          "output_type": "stream",
          "name": "stdout",
          "text": [
            "Next word candidates for 'i': [('am', 3)]\n"
          ]
        }
      ]
    },
    {
      "cell_type": "code",
      "source": [
        "def softmax(x):\n",
        "    e_x = np.exp(x - np.max(x))\n",
        "    return e_x / e_x.sum()\n",
        "\n",
        "def predict_with_softmax(prev_word, bigram_counts, unigram_counts):\n",
        "    candidates = [(bigram[1], count) for bigram, count in bigram_counts.items() if bigram[0] == prev_word]\n",
        "    if not candidates:\n",
        "        return None\n",
        "    words, counts = zip(*candidates)\n",
        "    probabilities = softmax(np.array(counts))\n",
        "    return list(zip(words, probabilities))\n",
        "\n",
        "# Example prediction with softmax\n",
        "prev_word = 'i'\n",
        "candidates = predict_with_softmax(prev_word, bigram_counts, unigram_counts)\n",
        "print(f\"Next word probabilities for '{prev_word}': {candidates}\")"
      ],
      "metadata": {
        "colab": {
          "base_uri": "https://localhost:8080/"
        },
        "id": "IHw5sx2hwt0d",
        "outputId": "f64063f7-2725-4d92-967e-1b3b70ac65c2"
      },
      "execution_count": 6,
      "outputs": [
        {
          "output_type": "stream",
          "name": "stdout",
          "text": [
            "Next word probabilities for 'i': [('am', 1.0)]\n"
          ]
        }
      ]
    }
  ]
}